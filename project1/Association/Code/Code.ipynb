{
 "cells": [
  {
   "cell_type": "code",
   "execution_count": 12,
   "metadata": {},
   "outputs": [],
   "source": [
    "## CSE 601 :Data Mining and Bio-informatics\n",
    "## Swathi Ravindran \n",
    "## Akshara Santharam\n",
    "## Sai Kumar Aindla\n",
    "\n",
    "#Frequent itemsets function\n",
    "def frequent_set(data, support = 50):\n",
    "    support = support / 100\n",
    "    Count = 1  \n",
    "    Temporary, final = item_set(data, support)\n",
    "    final_data = []\n",
    "    for r in data:\n",
    "        tmp = set()\n",
    "        for c in r:\n",
    "            tmp.add(c)\n",
    "        final_data.append(tmp)\n",
    "\n",
    "    while (1):\n",
    "        Count = Count + 1\n",
    "        set_l = set()\n",
    "        i = 0\n",
    "        while i < len(Temporary):\n",
    "            j = 0\n",
    "            while j < len(Temporary):\n",
    "                temp_set = Temporary[i] | Temporary[j]\n",
    "\n",
    "                temp_set = sorted(temp_set)\n",
    "\n",
    "                if len(temp_set) == Count:\n",
    "\n",
    "                    set_l.add(frozenset(temp_set))\n",
    "                j += 1\n",
    "            i += 1\n",
    "\n",
    "\n",
    "        Temporary = []                    \n",
    "\n",
    "        for var1 in set_l:\n",
    "\n",
    "            number = 0\n",
    "            for i in final_data:\n",
    "\n",
    "                if var1.issubset(i):\n",
    "\n",
    "                    number = number + 1\n",
    "\n",
    "            if support <= number / len(data):\n",
    "\n",
    "                final[var1] = number\n",
    "                Temporary.append(var1)\n",
    "\n",
    "        if len(Temporary) != 0:\n",
    "            print(\"Number of length {} frequent itemsets {}\".format(Count,len(Temporary)))\n",
    "        else:\n",
    "            break\n",
    "\n",
    "    return final\n",
    "\n",
    "#Number of Itemsets\n",
    "def item_set(data, support):\n",
    "    Arr = {}\n",
    "    final_data = {}\n",
    "\n",
    "    for row in range(len(data)):\n",
    "        for col in range(len(data[row])):\n",
    "            Arr[data[row][col]]  = (Arr[data[row][col]] + 1) if (data[row][col] in Arr) else 1\n",
    "\n",
    "    number = 0\n",
    "    Temporary = []\n",
    "\n",
    "    for item in Arr:\n",
    "        if support <= Arr[item] / len(data):\n",
    "\n",
    "            temp_set = set()\n",
    "\n",
    "            temp_set.add(item)\n",
    "\n",
    "            final_data[frozenset(temp_set)] = Arr[item]  \n",
    "\n",
    "            Temporary.append(temp_set)\n",
    "\n",
    "            number = number + 1\n",
    "\n",
    "    #Outputing the lenght 1 itemsets\n",
    "    print(\"Number of length {} frequent itemsets {}\".format(1,len(Temporary)))\n",
    "\n",
    "    return Temporary, final_data\n",
    "\n",
    "# Finding Minimum confidence         \n",
    "def minimum_confidence(r, f_items, confidence):\n",
    "    x = r[0] | r[1]\n",
    "    support_count = float(f_items[x])\n",
    "    if confidence <= (support_count / float(f_items[r[0]])):\n",
    "        return True   \n",
    "    return False\n",
    "    \n",
    "#Remove Duplicates\n",
    "def remove_dups(dups):\n",
    "    final_set = set(tuple(res) for res in dups)\n",
    "    return [list(res) for res in final_set]\n",
    "\n",
    "\n",
    "#Association Class for finding rule and defining Templates\n",
    "class Association_Rule:\n",
    "    def __init__(self, support, confidence, f_items):\n",
    "        self.support = support\n",
    "        self.confidence = confidence\n",
    "        self.freqItemsets = f_items\n",
    "        self.rules = []\n",
    "        for Item_set_frequent in self.freqItemsets:\n",
    "            if len(Item_set_frequent) > 1:\n",
    "                self.Rules(Item_set_frequent)\n",
    "                    \n",
    "# -------------------------------------- Finding rules ---------------------------------------------------------------\n",
    "    def Rules(self, Item_set_frequent):\n",
    "        Previous = []\n",
    "        frequent_length = len(Item_set_frequent)\n",
    "        \n",
    "        for item in Item_set_frequent:\n",
    "            \n",
    "            temp_items = set(Item_set_frequent)\n",
    "            \n",
    "            temp_items.remove(item)\n",
    "            \n",
    "            temp_var = [frozenset(temp_items), frozenset({item})]\n",
    "            \n",
    "            if minimum_confidence(temp_var, self.freqItemsets, self.confidence ):\n",
    "                \n",
    "                Previous.append(temp_var)\n",
    "                self.rules.append(temp_var)         \n",
    "        \n",
    "        while frequent_length > 2:\n",
    "            \n",
    "            combinations = itertools.combinations(Previous, 2)\n",
    "            temp_var = []\n",
    "\n",
    "            for comb in combinations:\n",
    "                \n",
    "                x = comb[0][1] | comb[1][1]\n",
    "                i = comb[1][0] & comb[0][0]\n",
    "                \n",
    "                if len(i) == frequent_length - 2:\n",
    "                    temp_list = [frozenset(set(i)), frozenset(set(x))]\n",
    "                    \n",
    "                    if minimum_confidence(temp_list, self.freqItemsets, self.confidence):\n",
    "                        temp_var.append(temp_list)\n",
    "\n",
    "            self.rules = self.rules + temp_var\n",
    "            Previous = temp_var\n",
    "            frequent_length = frequent_length - 1\n",
    "\n",
    "#   ---------------------------------------------- Template 1---------------------------------------------------------------   \n",
    "    def Template1(self, r, apriori_condition, count, items):\n",
    "        \n",
    "        if count == \"ANY\" and apriori_condition == \"RULE\":\n",
    "            if len(set(items) & (r[0] | r[1])) > 0:\n",
    "                return True\n",
    "            \n",
    "        elif isinstance(count, int) and apriori_condition == \"RULE\":\n",
    "            if len(set(items) & (r[0] | r[1])) == count:\n",
    "                return True\n",
    "            \n",
    "        elif apriori_condition == \"RULE\" and count == \"NONE\":\n",
    "            if len(set(items) & (r[0] | r[1]) ) == 0:\n",
    "                return True\n",
    "       \n",
    "        elif apriori_condition == \"HEAD\" and count == \"NONE\":\n",
    "            if len(set(items) & r[0]  ) == 0:\n",
    "                return True\n",
    "            \n",
    "        elif apriori_condition == \"BODY\" and count == \"ANY\":\n",
    "            if len(set(items) & r[1]  ) > 0:\n",
    "                return True\n",
    "            \n",
    "        elif apriori_condition == \"HEAD\" and count == \"ANY\":\n",
    "            if len(set(items) & r[0] ) > 0:\n",
    "                return True\n",
    "         \n",
    "        elif apriori_condition == \"BODY\" and isinstance(count, int):\n",
    "            if len(set(items) & r[1] ) == count:\n",
    "                return True\n",
    "            \n",
    "        elif apriori_condition == \"HEAD\" and isinstance(count, int):\n",
    "            if len(set(items) & r[0] ) == count:\n",
    "                return True\n",
    "        \n",
    "        elif apriori_condition == \"BODY\" and count == \"NONE\":\n",
    "            if len(set(items) & r[1] ) == 0:\n",
    "                return True\n",
    "       \n",
    "        return False\n",
    "    \n",
    "\n",
    "    def Temp_1(self, apriori_condition, count, items):\n",
    "        output = []\n",
    "        for r in self.rules:\n",
    "            if self.Template1(r, apriori_condition, count, items):\n",
    "                output.append(r)\n",
    "        output = remove_dups(output)\n",
    "        return output, len(output)\n",
    "# ----------------------------------------------- Template 2---------------------------------------------------------------\n",
    "    \n",
    "    def Template2(self, r, apriori_condition, count):\n",
    "        \n",
    "        if len(r[1]) >= count and apriori_condition == \"BODY\":\n",
    "            return True\n",
    "        \n",
    "        elif (len(r[0]) + len(r[1])) >= count and apriori_condition == \"RULE\":\n",
    "            return True\n",
    "        \n",
    "        elif len(r[0]) >= count and apriori_condition == \"HEAD\":\n",
    "            return True\n",
    "        \n",
    "        return False   \n",
    "\n",
    "    def Temp_2(self, apriori_condition, count):\n",
    "        \n",
    "        output = []\n",
    "        \n",
    "        for r in self.rules:\n",
    "            \n",
    "            if self.Template2(r, apriori_condition, count):\n",
    "                output.append(r)\n",
    "                \n",
    "        output = remove_dups(output)\n",
    "        return output, len(output)\n",
    "# -------------------------------------------------------- Template 3------------------------------------------------------  \n",
    "    \n",
    "    def Template3(self, r, args):\n",
    "        \n",
    "       \n",
    "        check = args[0]\n",
    "        \n",
    "        if check[-1] == '1' and check[0] == '1':\n",
    "            \n",
    "            output_2 = self.Template1(r, args[4], args[5], args[6])\n",
    "            output_1 = self.Template1(r, args[1], args[2], args[3])\n",
    "            \n",
    "        elif check[-1] == '1' and check[0] == '2':\n",
    "            \n",
    "            output_2 = self.Template1(r, args[3], args[4], args[5])\n",
    "            output_1 = self.Template2(r, args[1], args[2])\n",
    "            \n",
    "        elif check[-1] == '2'and check[0] == '2':\n",
    "            \n",
    "            output_2 = self.Template2(r, args[3], args[4])\n",
    "            output_1 = self.Template2(r, args[1], args[2])\n",
    "            \n",
    "        elif check[-1] == '2'and check[0] == '1':\n",
    "            \n",
    "            output_2 = self.Template2(r, args[4], args[5])\n",
    "            output_1 = self.Template1(r, args[1], args[2], args[3])\n",
    "        \n",
    "        if check[1:-1] == 'or':\n",
    "            return output_1 or output_2    \n",
    "\n",
    "        elif check[1:-1] == 'and': \n",
    "            return output_1 and output_2\n",
    "\n",
    "    def Temp_3(self, *args):\n",
    "        \n",
    "        output = []\n",
    "        for r in self.rules:\n",
    "            \n",
    "            if self.Template3(r, args):\n",
    "                output.append(r)\n",
    "                \n",
    "        output = remove_dups(output)\n",
    "        return output, len(output)"
   ]
  },
  {
   "cell_type": "code",
   "execution_count": 13,
   "metadata": {},
   "outputs": [
    {
     "name": "stdout",
     "output_type": "stream",
     "text": [
      "Number of length 1 frequent itemsets 109\n",
      "Number of length 2 frequent itemsets 63\n",
      "Number of length 3 frequent itemsets 2\n",
      "Total Frequent Itemset Generated for Support 50 and Confidence 70 : 174\n"
     ]
    }
   ],
   "source": [
    "import itertools\n",
    "#Main Function\n",
    "\n",
    "support = 50\n",
    "confidence= 70\n",
    "\n",
    "file = open(\"association-rule-test-data.txt\", \"r\")\n",
    "data = [line.strip().split('\\t') for line in file.readlines()]\n",
    "for x in range(len(data)):\n",
    "    counter=1\n",
    "    for y in range(len(data[x])):\n",
    "            data[x][y] = 'G' + str(counter) + '_' + data[x][y]\n",
    "            counter+=1      \n",
    "\n",
    "#Number of frequent Itemsets\n",
    "freq_item_sets = frequent_set(data,support)\n",
    "print(\"Total Frequent Itemset Generated for Support {} and Confidence {} : {}\".format(support,confidence,str(len(freq_item_sets))))\n",
    "#Association Rules\n",
    "asso_rule = Association_Rule(float(support), float(confidence)/100,freq_item_sets)\n",
    "\n"
   ]
  },
  {
   "cell_type": "code",
   "execution_count": 14,
   "metadata": {},
   "outputs": [],
   "source": [
    "#### TEMPLATE 1 Results ####"
   ]
  },
  {
   "cell_type": "code",
   "execution_count": 15,
   "metadata": {},
   "outputs": [],
   "source": [
    "(result11, cnt) = asso_rule.Temp_1(\"RULE\", \"ANY\", ['G59_Up'])"
   ]
  },
  {
   "cell_type": "code",
   "execution_count": 16,
   "metadata": {},
   "outputs": [
    {
     "data": {
      "text/plain": [
       "26"
      ]
     },
     "execution_count": 16,
     "metadata": {},
     "output_type": "execute_result"
    }
   ],
   "source": [
    "cnt"
   ]
  },
  {
   "cell_type": "code",
   "execution_count": 17,
   "metadata": {},
   "outputs": [],
   "source": [
    "(result12, cnt) = asso_rule.Temp_1(\"RULE\", \"NONE\", ['G59_Up'])"
   ]
  },
  {
   "cell_type": "code",
   "execution_count": 18,
   "metadata": {},
   "outputs": [
    {
     "data": {
      "text/plain": [
       "91"
      ]
     },
     "execution_count": 18,
     "metadata": {},
     "output_type": "execute_result"
    }
   ],
   "source": [
    "cnt"
   ]
  },
  {
   "cell_type": "code",
   "execution_count": 19,
   "metadata": {},
   "outputs": [],
   "source": [
    "(result13, cnt) = asso_rule.Temp_1(\"RULE\", 1, ['G59_Up', 'G10_Down']) "
   ]
  },
  {
   "cell_type": "code",
   "execution_count": 20,
   "metadata": {},
   "outputs": [
    {
     "data": {
      "text/plain": [
       "39"
      ]
     },
     "execution_count": 20,
     "metadata": {},
     "output_type": "execute_result"
    }
   ],
   "source": [
    "cnt"
   ]
  },
  {
   "cell_type": "code",
   "execution_count": 21,
   "metadata": {},
   "outputs": [],
   "source": [
    "(result14, cnt) = asso_rule.Temp_1(\"HEAD\", \"ANY\", ['G59_Up'])"
   ]
  },
  {
   "cell_type": "code",
   "execution_count": 22,
   "metadata": {},
   "outputs": [
    {
     "data": {
      "text/plain": [
       "9"
      ]
     },
     "execution_count": 22,
     "metadata": {},
     "output_type": "execute_result"
    }
   ],
   "source": [
    "cnt"
   ]
  },
  {
   "cell_type": "code",
   "execution_count": 23,
   "metadata": {},
   "outputs": [],
   "source": [
    " (result15, cnt) = asso_rule.Temp_1(\"HEAD\", \"NONE\", ['G59_Up']) "
   ]
  },
  {
   "cell_type": "code",
   "execution_count": 24,
   "metadata": {},
   "outputs": [
    {
     "data": {
      "text/plain": [
       "108"
      ]
     },
     "execution_count": 24,
     "metadata": {},
     "output_type": "execute_result"
    }
   ],
   "source": [
    "cnt"
   ]
  },
  {
   "cell_type": "code",
   "execution_count": 25,
   "metadata": {},
   "outputs": [],
   "source": [
    "\n",
    "(result16, cnt) = asso_rule.Temp_1(\"HEAD\", 1, ['G59_Up', 'G10_Down']) "
   ]
  },
  {
   "cell_type": "code",
   "execution_count": 26,
   "metadata": {},
   "outputs": [
    {
     "data": {
      "text/plain": [
       "17"
      ]
     },
     "execution_count": 26,
     "metadata": {},
     "output_type": "execute_result"
    }
   ],
   "source": [
    "cnt"
   ]
  },
  {
   "cell_type": "code",
   "execution_count": 27,
   "metadata": {},
   "outputs": [],
   "source": [
    "(result17, cnt) = asso_rule.Temp_1(\"BODY\", \"ANY\", ['G59_Up']) "
   ]
  },
  {
   "cell_type": "code",
   "execution_count": 28,
   "metadata": {},
   "outputs": [
    {
     "data": {
      "text/plain": [
       "17"
      ]
     },
     "execution_count": 28,
     "metadata": {},
     "output_type": "execute_result"
    }
   ],
   "source": [
    "cnt"
   ]
  },
  {
   "cell_type": "code",
   "execution_count": 29,
   "metadata": {},
   "outputs": [],
   "source": [
    "(result18, cnt) = asso_rule.Temp_1(\"BODY\", \"NONE\", ['G59_Up']) "
   ]
  },
  {
   "cell_type": "code",
   "execution_count": 30,
   "metadata": {},
   "outputs": [
    {
     "data": {
      "text/plain": [
       "100"
      ]
     },
     "execution_count": 30,
     "metadata": {},
     "output_type": "execute_result"
    }
   ],
   "source": [
    "cnt"
   ]
  },
  {
   "cell_type": "code",
   "execution_count": 31,
   "metadata": {},
   "outputs": [],
   "source": [
    "(result19, cnt) = asso_rule.Temp_1(\"BODY\", 1, ['G59_Up', 'G10_Down'])"
   ]
  },
  {
   "cell_type": "code",
   "execution_count": 32,
   "metadata": {},
   "outputs": [
    {
     "data": {
      "text/plain": [
       "24"
      ]
     },
     "execution_count": 32,
     "metadata": {},
     "output_type": "execute_result"
    }
   ],
   "source": [
    "cnt"
   ]
  },
  {
   "cell_type": "code",
   "execution_count": 33,
   "metadata": {},
   "outputs": [],
   "source": [
    "###### TEMPLATE 2 Results ####"
   ]
  },
  {
   "cell_type": "code",
   "execution_count": 34,
   "metadata": {},
   "outputs": [],
   "source": [
    "(result21, cnt) = asso_rule.Temp_2(\"RULE\", 3) "
   ]
  },
  {
   "cell_type": "code",
   "execution_count": 35,
   "metadata": {},
   "outputs": [
    {
     "data": {
      "text/plain": [
       "9"
      ]
     },
     "execution_count": 35,
     "metadata": {},
     "output_type": "execute_result"
    }
   ],
   "source": [
    "cnt"
   ]
  },
  {
   "cell_type": "code",
   "execution_count": 36,
   "metadata": {},
   "outputs": [],
   "source": [
    "(result22, cnt) = asso_rule.Temp_2(\"HEAD\", 2) "
   ]
  },
  {
   "cell_type": "code",
   "execution_count": 37,
   "metadata": {},
   "outputs": [
    {
     "data": {
      "text/plain": [
       "6"
      ]
     },
     "execution_count": 37,
     "metadata": {},
     "output_type": "execute_result"
    }
   ],
   "source": [
    "cnt"
   ]
  },
  {
   "cell_type": "code",
   "execution_count": 38,
   "metadata": {},
   "outputs": [],
   "source": [
    "(result23, cnt) = asso_rule.Temp_2(\"BODY\", 1)"
   ]
  },
  {
   "cell_type": "code",
   "execution_count": 39,
   "metadata": {},
   "outputs": [
    {
     "data": {
      "text/plain": [
       "117"
      ]
     },
     "execution_count": 39,
     "metadata": {},
     "output_type": "execute_result"
    }
   ],
   "source": [
    "cnt"
   ]
  },
  {
   "cell_type": "code",
   "execution_count": 40,
   "metadata": {},
   "outputs": [],
   "source": [
    "#### TEMPLATE 3 Results ####"
   ]
  },
  {
   "cell_type": "code",
   "execution_count": 41,
   "metadata": {},
   "outputs": [],
   "source": [
    "(result31, cnt) = asso_rule.Temp_3(\"1or1\", \"HEAD\", \"ANY\", ['G10_Down'], \"BODY\", 1, ['G59_Up']) "
   ]
  },
  {
   "cell_type": "code",
   "execution_count": 42,
   "metadata": {},
   "outputs": [
    {
     "data": {
      "text/plain": [
       "24"
      ]
     },
     "execution_count": 42,
     "metadata": {},
     "output_type": "execute_result"
    }
   ],
   "source": [
    "cnt"
   ]
  },
  {
   "cell_type": "code",
   "execution_count": 43,
   "metadata": {},
   "outputs": [],
   "source": [
    "(result32, cnt) = asso_rule.Temp_3(\"1and1\", \"HEAD\", \"ANY\", ['G10_Down'], \"BODY\", 1, ['G59_Up'])"
   ]
  },
  {
   "cell_type": "code",
   "execution_count": 44,
   "metadata": {},
   "outputs": [
    {
     "data": {
      "text/plain": [
       "1"
      ]
     },
     "execution_count": 44,
     "metadata": {},
     "output_type": "execute_result"
    }
   ],
   "source": [
    "cnt"
   ]
  },
  {
   "cell_type": "code",
   "execution_count": 45,
   "metadata": {},
   "outputs": [],
   "source": [
    "(result33, cnt) = asso_rule.Temp_3(\"1or2\", \"HEAD\", \"ANY\", ['G10_Down'], \"BODY\", 2) "
   ]
  },
  {
   "cell_type": "code",
   "execution_count": 46,
   "metadata": {},
   "outputs": [
    {
     "data": {
      "text/plain": [
       "11"
      ]
     },
     "execution_count": 46,
     "metadata": {},
     "output_type": "execute_result"
    }
   ],
   "source": [
    "cnt"
   ]
  },
  {
   "cell_type": "code",
   "execution_count": 47,
   "metadata": {},
   "outputs": [],
   "source": [
    "(result34, cnt) = asso_rule.Temp_3(\"1and2\", \"HEAD\", \"ANY\", ['G10_Down'], \"BODY\", 2) "
   ]
  },
  {
   "cell_type": "code",
   "execution_count": 48,
   "metadata": {},
   "outputs": [
    {
     "data": {
      "text/plain": [
       "0"
      ]
     },
     "execution_count": 48,
     "metadata": {},
     "output_type": "execute_result"
    }
   ],
   "source": [
    "cnt"
   ]
  },
  {
   "cell_type": "code",
   "execution_count": 49,
   "metadata": {},
   "outputs": [],
   "source": [
    "(result35, cnt) = asso_rule.Temp_3(\"2or2\", \"HEAD\", 1, \"BODY\", 2) "
   ]
  },
  {
   "cell_type": "code",
   "execution_count": 50,
   "metadata": {},
   "outputs": [
    {
     "data": {
      "text/plain": [
       "117"
      ]
     },
     "execution_count": 50,
     "metadata": {},
     "output_type": "execute_result"
    }
   ],
   "source": [
    "cnt"
   ]
  },
  {
   "cell_type": "code",
   "execution_count": 51,
   "metadata": {},
   "outputs": [],
   "source": [
    "(result36, cnt) = asso_rule.Temp_3(\"2and2\", \"HEAD\", 1, \"BODY\", 2) "
   ]
  },
  {
   "cell_type": "code",
   "execution_count": 52,
   "metadata": {},
   "outputs": [
    {
     "data": {
      "text/plain": [
       "3"
      ]
     },
     "execution_count": 52,
     "metadata": {},
     "output_type": "execute_result"
    }
   ],
   "source": [
    "cnt"
   ]
  },
  {
   "cell_type": "code",
   "execution_count": 53,
   "metadata": {},
   "outputs": [
    {
     "data": {
      "text/plain": [
       "117"
      ]
     },
     "execution_count": 53,
     "metadata": {},
     "output_type": "execute_result"
    }
   ],
   "source": [
    "(result, cnt) = asso_rule.Temp_1(\"HEAD\", \"NONE\", ['G1_UP'])\n",
    "cnt"
   ]
  },
  {
   "cell_type": "code",
   "execution_count": 54,
   "metadata": {},
   "outputs": [
    {
     "data": {
      "text/plain": [
       "8"
      ]
     },
     "execution_count": 54,
     "metadata": {},
     "output_type": "execute_result"
    }
   ],
   "source": [
    "(result, cnt) = asso_rule.Temp_1(\"HEAD\", 1, ['G1_UP', 'G10_Down'])\n",
    "cnt"
   ]
  },
  {
   "cell_type": "code",
   "execution_count": 55,
   "metadata": {},
   "outputs": [
    {
     "data": {
      "text/plain": [
       "117"
      ]
     },
     "execution_count": 55,
     "metadata": {},
     "output_type": "execute_result"
    }
   ],
   "source": [
    "(result, cnt) = asso_rule.Temp_2(\"RULE\", 2)\n",
    "cnt"
   ]
  },
  {
   "cell_type": "code",
   "execution_count": 56,
   "metadata": {},
   "outputs": [
    {
     "data": {
      "text/plain": [
       "3"
      ]
     },
     "execution_count": 56,
     "metadata": {},
     "output_type": "execute_result"
    }
   ],
   "source": [
    "(result, cnt) = asso_rule.Temp_2(\"BODY\", 2)\n",
    "cnt"
   ]
  },
  {
   "cell_type": "code",
   "execution_count": 57,
   "metadata": {},
   "outputs": [
    {
     "data": {
      "text/plain": [
       "3"
      ]
     },
     "execution_count": 57,
     "metadata": {},
     "output_type": "execute_result"
    }
   ],
   "source": [
    "(result, cnt) = asso_rule.Temp_3(\"1or2\", \"HEAD\", \"ANY\", ['G1_UP'], \"BODY\", 2)\n",
    "cnt"
   ]
  },
  {
   "cell_type": "code",
   "execution_count": 58,
   "metadata": {},
   "outputs": [
    {
     "data": {
      "text/plain": [
       "0"
      ]
     },
     "execution_count": 58,
     "metadata": {},
     "output_type": "execute_result"
    }
   ],
   "source": [
    "(result, cnt) = asso_rule.Temp_3(\"1and2\", \"HEAD\", \"ANY\", ['G1_UP'], \"BODY\", 2)\n",
    "cnt"
   ]
  },
  {
   "cell_type": "code",
   "execution_count": 59,
   "metadata": {},
   "outputs": [
    {
     "data": {
      "text/plain": [
       "([[frozenset({'G82_Down'}), frozenset({'G59_Up', 'G72_Up'})],\n",
       "  [frozenset({'G96_Down'}), frozenset({'G59_Up', 'G72_Up'})],\n",
       "  [frozenset({'G72_Up'}), frozenset({'G59_Up', 'G82_Down'})]],\n",
       " 3)"
      ]
     },
     "execution_count": 59,
     "metadata": {},
     "output_type": "execute_result"
    }
   ],
   "source": [
    "(result, cnt) = asso_rule.Temp_3(\"2and2\", \"HEAD\", 1, \"BODY\", 2)\n",
    "result, cnt"
   ]
  },
  {
   "cell_type": "code",
   "execution_count": null,
   "metadata": {},
   "outputs": [],
   "source": []
  },
  {
   "cell_type": "code",
   "execution_count": null,
   "metadata": {},
   "outputs": [],
   "source": []
  }
 ],
 "metadata": {
  "kernelspec": {
   "display_name": "Python 3",
   "language": "python",
   "name": "python3"
  },
  "language_info": {
   "codemirror_mode": {
    "name": "ipython",
    "version": 3
   },
   "file_extension": ".py",
   "mimetype": "text/x-python",
   "name": "python",
   "nbconvert_exporter": "python",
   "pygments_lexer": "ipython3",
   "version": "3.8.3"
  }
 },
 "nbformat": 4,
 "nbformat_minor": 4
}
