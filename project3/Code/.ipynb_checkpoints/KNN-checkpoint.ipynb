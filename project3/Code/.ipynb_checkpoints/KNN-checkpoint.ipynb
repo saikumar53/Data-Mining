{
 "cells": [
  {
   "cell_type": "code",
   "execution_count": 1,
   "metadata": {},
   "outputs": [],
   "source": [
    "import pandas as pd\n",
    "import numpy as np"
   ]
  },
  {
   "cell_type": "code",
   "execution_count": 2,
   "metadata": {},
   "outputs": [],
   "source": [
    "#Check the categorical data\n",
    "def check_categorical(data):\n",
    "    categorical_index = []\n",
    "    for i,value in enumerate(data.dtypes):\n",
    "        if(value == 'object'):\n",
    "            categorical_index.append(i)\n",
    "    j = 0\n",
    "    data = data.to_numpy()\n",
    "    while j < len(categorical_index):\n",
    "        temp = data[:,categorical_index[j]]\n",
    "        u_categorical = np.unique(temp)\n",
    "        num_indexes = []\n",
    "        for i,value in enumerate(u_categorical):\n",
    "            num_indexes.append(i)\n",
    "        dictionary = dict(zip(u_categorical, num_indexes))\n",
    "        for k in range(len(temp)):\n",
    "            data[k][categorical_index[j]] = dictionary.get(data[k][categorical_index[j]])\n",
    "        j+=1\n",
    "    \n",
    "    return data.astype(float),categorical_index\n",
    "        "
   ]
  },
  {
   "cell_type": "code",
   "execution_count": 3,
   "metadata": {},
   "outputs": [],
   "source": [
    "#Euclidean distance\n",
    "def calc_distance(a,b):\n",
    "    dist = 0\n",
    "    for i in range(len(a)):\n",
    "        dist += (abs(a[i] - b[i]) ** 2)\n",
    "    return (dist**(1/2))"
   ]
  },
  {
   "cell_type": "code",
   "execution_count": 4,
   "metadata": {},
   "outputs": [],
   "source": [
    "#Normalization of data\n",
    "def normalize(data):\n",
    "    normalized_data  = (data - np.mean(data,axis = 0))/np.std(data,axis = 0)\n",
    "    return normalized_data"
   ]
  },
  {
   "cell_type": "code",
   "execution_count": 5,
   "metadata": {},
   "outputs": [],
   "source": [
    "#Knn - Classification\n",
    "def knn_classify(k, train_p,test_p):\n",
    "    distance_list = []\n",
    "    for train_point in train_p:\n",
    "        distance_list.append(calc_distance(train_point[0:-1],test_p[0:-1]))\n",
    "    k_neighbors = np.argsort(np.asarray(distance_list))\n",
    "    k_neighbors = k_neighbors[:k]\n",
    "    train_last_column = train_p[:,-1]\n",
    "    ones = 0\n",
    "    zeroes = 0\n",
    "    for x in k_neighbors:\n",
    "        if train_last_column[x] == 0:\n",
    "            zeroes +=1\n",
    "        elif train_last_column[x] == 1:\n",
    "            ones += 1\n",
    "    if(ones > zeroes):\n",
    "        return 1\n",
    "    else:\n",
    "        return 0"
   ]
  },
  {
   "cell_type": "code",
   "execution_count": 6,
   "metadata": {},
   "outputs": [],
   "source": [
    "#Calculation of Confusion Matrix\n",
    "def confusion_matrix(original, predicted):\n",
    "    accuracy = precision = recall = f_measure = 0\n",
    "    TP = FN = FP = TN = 0\n",
    "    for i in range(len(original)):\n",
    "        if original[i] == 1 and predicted[i] == 1:\n",
    "            TP += 1\n",
    "        elif original[i] == 1 and predicted[i] == 0:\n",
    "            FN += 1\n",
    "        elif original[i] == 0 and predicted[i] == 1:\n",
    "            FP += 1\n",
    "        else:\n",
    "            TN += 1\n",
    "            \n",
    "    accuracy = (float(TP + TN)/(TP + FN + FP + TN))\n",
    "    if(TP + FP) != 0:\n",
    "        precision = (float(TP)/(TP + FP))\n",
    "    if(TP + FN) != 0:\n",
    "        recall = (float(TP)/(TP + FN))\n",
    "    f_measure = (float(2 * TP) / ((2 * TP) + FN + FP))\n",
    "            \n",
    "    return accuracy, precision, recall, f_measure"
   ]
  },
  {
   "cell_type": "code",
   "execution_count": 7,
   "metadata": {},
   "outputs": [
    {
     "name": "stdout",
     "output_type": "stream",
     "text": [
      "Enter the Number of Neighbors : 9\n",
      "K Nearest Neighbors Results for the file project3_dataset1.txt --------------\n",
      "Accuracy : 96.66353383458647\n",
      "Precision: 98.54219948849105\n",
      "Recall : 92.58877591865794\n",
      "F-1 Measure: 95.29281749376221\n"
     ]
    }
   ],
   "source": [
    "#Main Function\n",
    "def __main__():\n",
    "    accuracy = precision = recall = f_measure = 0\n",
    "    \n",
    "    #Load the file in a Data Frame\n",
    "    file = 'project3_dataset1.txt'\n",
    "    data = pd.read_csv(file,sep=\"\\t\", header=None)    \n",
    "    data = data.iloc[:,:data.shape[1]]\n",
    "    data, categorical_index = check_categorical(data)\n",
    "    \n",
    "    #Number of Folds\n",
    "    folds = np.array_split(data,10)\n",
    "   \n",
    "    i=0\n",
    "    #Number of neighbors\n",
    "    k = int(input('Enter the Number of Neighbors : '))\n",
    "    \n",
    "    #Looping through the folds\n",
    "    while(i<len(folds)):\n",
    "        test = np.asarray(folds[i])\n",
    "        train = []\n",
    "        predicted_labels = []\n",
    "        for index,value in enumerate(folds):\n",
    "            if(index != i):\n",
    "                train.append(value)\n",
    "        train = np.asarray(np.vstack(train))\n",
    "\n",
    "\n",
    "        for item in range(len(test)):\n",
    "            test_point = test[item]\n",
    "            data_slice = np.vstack((train[:,0:-1],test_point[0:-1].reshape((1,test_point[0:-1].shape[0]))))\n",
    "            \n",
    "            #Normalization\n",
    "            n_data = normalize(data_slice)\n",
    "            n_train = np.hstack((n_data[0:-1,:],train[:,-1].reshape(train[:,-1].shape[0],1)))\n",
    "            n_test = np.hstack((n_data[-1,:],test_point[-1]))\n",
    "\n",
    "            #Classification and Predication of the points\n",
    "            final_class_labels = knn_classify(k, n_train,n_test)\n",
    "            predicted_labels.append(final_class_labels)\n",
    "    \n",
    "        #Accuracy, Precision, Recall, Precision calculations\n",
    "        acc, prec, rec, f_meas = confusion_matrix(test[:,-1], np.asarray(predicted_labels))\n",
    "        accuracy += acc\n",
    "        precision += prec\n",
    "        recall += rec\n",
    "        f_measure += f_meas\n",
    "\n",
    "        i+=1\n",
    "    \n",
    "    #Outputs\n",
    "    print('K Nearest Neighbors Results for the file {} --------------'.format(file))\n",
    "    print('Accuracy : {}'.format(str(accuracy * 10)))\n",
    "    print('Precision: {}'.format(str(precision * 10)))\n",
    "    print('Recall : {}'.format(str(recall * 10)))\n",
    "    print('F-1 Measure: {}'.format(str(f_measure * 10)))\n",
    "        \n",
    "\n",
    "        \n",
    "__main__()   "
   ]
  }
 ],
 "metadata": {
  "kernelspec": {
   "display_name": "Python 3",
   "language": "python",
   "name": "python3"
  },
  "language_info": {
   "codemirror_mode": {
    "name": "ipython",
    "version": 3
   },
   "file_extension": ".py",
   "mimetype": "text/x-python",
   "name": "python",
   "nbconvert_exporter": "python",
   "pygments_lexer": "ipython3",
   "version": "3.8.3"
  }
 },
 "nbformat": 4,
 "nbformat_minor": 4
}
