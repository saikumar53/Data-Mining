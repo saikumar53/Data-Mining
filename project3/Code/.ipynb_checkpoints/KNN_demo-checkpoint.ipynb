{
 "cells": [
  {
   "cell_type": "code",
   "execution_count": 1,
   "metadata": {},
   "outputs": [],
   "source": [
    "import pandas as pd\n",
    "import numpy as np"
   ]
  },
  {
   "cell_type": "code",
   "execution_count": 2,
   "metadata": {},
   "outputs": [],
   "source": [
    "#Euclidean distance\n",
    "def calc_distance(a,b):\n",
    "    dist = 0\n",
    "    for i in range(len(a)):\n",
    "        dist += (abs(a[i] - b[i]) ** 2)\n",
    "    return (dist**(1/2))"
   ]
  },
  {
   "cell_type": "code",
   "execution_count": 3,
   "metadata": {},
   "outputs": [],
   "source": [
    "#Knn - Classification\n",
    "def knn_classify(k, train_p,test_p):\n",
    "    distance_list = []\n",
    "    for train_point in train_p:\n",
    "        distance_list.append(calc_distance(train_point[0:-1],test_p[0:-1]))\n",
    "    k_neighbors = np.argsort(np.asarray(distance_list))\n",
    "    k_neighbors = k_neighbors[:k]\n",
    "    train_last_column = train_p[:,-1]\n",
    "    ones = 0\n",
    "    zeroes = 0\n",
    "    for x in k_neighbors:\n",
    "        if train_last_column[x] == 0:\n",
    "            zeroes +=1\n",
    "        elif train_last_column[x] == 1:\n",
    "            ones += 1\n",
    "    if(ones > zeroes):\n",
    "        return 1\n",
    "    else:\n",
    "        return 0"
   ]
  },
  {
   "cell_type": "code",
   "execution_count": 4,
   "metadata": {},
   "outputs": [],
   "source": [
    "#Calculation of Confusion Matrix\n",
    "def confusion_matrix(original, predicted):\n",
    "    accuracy = precision = recall = f_measure = 0\n",
    "    TP = FN = FP = TN = 0\n",
    "    for i in range(len(original)):\n",
    "        if original[i] == 1 and predicted[i] == 1:\n",
    "            TP += 1\n",
    "        elif original[i] == 1 and predicted[i] == 0:\n",
    "            FN += 1\n",
    "        elif original[i] == 0 and predicted[i] == 1:\n",
    "            FP += 1\n",
    "        else:\n",
    "            TN += 1\n",
    "            \n",
    "    accuracy = (float(TP + TN)/(TP + FN + FP + TN))\n",
    "    if(TP + FP) != 0:\n",
    "        precision = (float(TP)/(TP + FP))\n",
    "    if(TP + FN) != 0:\n",
    "        recall = (float(TP)/(TP + FN))\n",
    "    f_measure = (float(2 * TP) / ((2 * TP) + FN + FP))\n",
    "            \n",
    "    return accuracy, precision, recall, f_measure"
   ]
  },
  {
   "cell_type": "code",
   "execution_count": 5,
   "metadata": {},
   "outputs": [
    {
     "name": "stdout",
     "output_type": "stream",
     "text": [
      "Enter the Number of Neighbors : 9\n",
      "K Nearest Neighbors Results for the train file project3_dataset3_train.txt and test file project3_dataset3_test.txt--\n",
      "Accuracy : 96.25\n",
      "Precision: 95.1219512195122\n",
      "Recall : 97.5\n",
      "F-1 Measure: 96.29629629629629\n"
     ]
    }
   ],
   "source": [
    "#Main Function\n",
    "def __main__():\n",
    "    accuracy = precision = recall = f_measure = 0\n",
    "    \n",
    "    #Enter the number of neighbors\n",
    "    k = int(input('Enter the Number of Neighbors : '))\n",
    "    \n",
    "    #Read and Load the train and test data\n",
    "    train_file = 'project3_dataset3_train.txt'\n",
    "    test_file = 'project3_dataset3_test.txt'\n",
    "    train_data = pd.read_csv(train_file,sep=\"\\t\", header=None)\n",
    "    test_data = pd.read_csv(train_file,sep=\"\\t\", header=None)\n",
    "    train_data = np.asarray(train_data)\n",
    "    test_data = np.asarray(test_data)\n",
    "    \n",
    "    predicted_labels = []\n",
    "    \n",
    "    for item in range(len(test_data)):\n",
    "        test_point = test_data[item]\n",
    "        \n",
    "        #Classification and Predication of the points\n",
    "        final_class_labels = knn_classify(k, train_data,test_point)\n",
    "        predicted_labels.append(final_class_labels)\n",
    "    \n",
    "    #Accuracy, Precision, Recall, Precision calculations\n",
    "    acc, prec, rec, f_meas = confusion_matrix(test_data[:,-1], np.asarray(predicted_labels))\n",
    "    accuracy += acc\n",
    "    precision += prec\n",
    "    recall += rec\n",
    "    f_measure += f_meas\n",
    "    \n",
    "    #Outputs\n",
    "    print('K Nearest Neighbors Results for the train file {} and test file {}--'.format(train_file,test_file))\n",
    "    print('Accuracy : {}'.format(str(accuracy * 100)))\n",
    "    print('Precision: {}'.format(str(precision * 100)))\n",
    "    print('Recall : {}'.format(str(recall * 100)))\n",
    "    print('F-1 Measure: {}'.format(str(f_measure * 100)))\n",
    "        \n",
    "\n",
    "        \n",
    "__main__()   "
   ]
  }
 ],
 "metadata": {
  "kernelspec": {
   "display_name": "Python 3",
   "language": "python",
   "name": "python3"
  },
  "language_info": {
   "codemirror_mode": {
    "name": "ipython",
    "version": 3
   },
   "file_extension": ".py",
   "mimetype": "text/x-python",
   "name": "python",
   "nbconvert_exporter": "python",
   "pygments_lexer": "ipython3",
   "version": "3.8.3"
  }
 },
 "nbformat": 4,
 "nbformat_minor": 4
}
