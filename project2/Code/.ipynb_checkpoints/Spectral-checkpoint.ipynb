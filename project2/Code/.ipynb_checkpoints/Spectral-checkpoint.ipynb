{
 "cells": [
  {
   "cell_type": "code",
   "execution_count": 25,
   "metadata": {},
   "outputs": [],
   "source": [
    "import numpy as np\n",
    "import pandas as pd\n",
    "import seaborn as sns\n",
    "from scipy import linalg\n",
    "from sklearn.decomposition import PCA\n",
    "import matplotlib.pyplot as plt\n",
    "from sklearn.cluster import KMeans\n",
    "\n",
    "#Load the file in a Data Frame\n",
    "file = 'new_dataset_1.txt'\n",
    "df = pd.read_csv(file,sep=\"\\t\", header=None)"
   ]
  },
  {
   "cell_type": "code",
   "execution_count": 26,
   "metadata": {},
   "outputs": [],
   "source": [
    "#Guassian Kernel Similarity\n",
    "def Guassian_Kernel(x1, x2, sigma):\n",
    "    diff =np.matrix(abs(np.subtract(x1, x2)))\n",
    "    \n",
    "    square = (np.square(diff).sum(axis=1))\n",
    "    \n",
    "    return np.exp(-(square)/(2*sigma**2))"
   ]
  },
  {
   "cell_type": "code",
   "execution_count": 27,
   "metadata": {},
   "outputs": [],
   "source": [
    "#Spectral Eigen Values\n",
    "def Spectral_Eigen(k, lap, eigen_gap):\n",
    "    eigen_val, eigen_vec = linalg.eig((lap))\n",
    "    eigen_gap = np.argmax(np.diff(eigen_val.real))\n",
    "    sorted_eigen_val = np.sort(eigen_val.real)[::-1]\n",
    "    count = eigen_gap + 1\n",
    "    index = eigen_val.real.argsort()[:count]\n",
    "    transform = np.ndarray(shape=(lap.shape[0],0))\n",
    "    \n",
    "    for i in range(1, index.shape[0]):\n",
    "        similarity_eigen_vec = np.transpose(np.matrix(eigen_vec[:,index.item(i)]))\n",
    "        transform = np.concatenate((transform, similarity_eigen_vec), axis=1)\n",
    "    return transform, eigen_gap"
   ]
  },
  {
   "cell_type": "code",
   "execution_count": 28,
   "metadata": {},
   "outputs": [],
   "source": [
    "#Spectral Values\n",
    "def Spectral(k, lap):\n",
    "    eigen_val, eigen_vec = linalg.eig((lap))\n",
    "    index = eigen_val.real.argsort()[:k]\n",
    "    transform = np.ndarray(shape=(lap.shape[0],0))\n",
    "    \n",
    "    for i in range(1, index.shape[0]):\n",
    "        similarity_eigen_vec = np.transpose(np.matrix(eigen_vec[:,index.item(i)]))\n",
    "        transform = np.concatenate((transform, similarity_eigen_vec), axis=1)\n",
    "    return transform"
   ]
  },
  {
   "cell_type": "code",
   "execution_count": 29,
   "metadata": {},
   "outputs": [],
   "source": [
    "#Plotting the clusters\n",
    "def plots(pca_data,assigned_cluster,file):\n",
    "    df_new = pd.DataFrame({'y1':np.array(pca_data)[:,0], 'y2':np.array(pca_data)[:,1], 'clusters': assigned_cluster})\n",
    "    sns.lmplot(x='y1', y='y2', data=df_new, fit_reg=False,hue='clusters',palette = 'dark', height=5,aspect = 1.5,legend_out = False)\n",
    "    plt.title(file)"
   ]
  },
  {
   "cell_type": "code",
   "execution_count": 30,
   "metadata": {},
   "outputs": [],
   "source": [
    "#Incident Matrix\n",
    "def get_matrix(cluster_values):\n",
    "    mat = np.zeros((len(cluster_values),len(cluster_values)))\n",
    "    for i in range(len(cluster_values)):\n",
    "        for j in range(len(cluster_values)):\n",
    "                if(cluster_values[i] == cluster_values[j]):\n",
    "                    mat[i][j] = 1\n",
    "                else:\n",
    "                    mat[i][j] = 0\n",
    "    return mat\n",
    "\n",
    "#Calculating m values using ground truth values and kmeans values\n",
    "def external_index(ground_matrix, Spectral_mat):\n",
    "    m11 = 0\n",
    "    m00 = 0\n",
    "    m01 = 0\n",
    "    m10 = 0\n",
    "    for i in range(len(ground_matrix)):\n",
    "        for j in range(len(Spectral_mat)):\n",
    "            if Spectral_mat[i][j] == 1 and ground_matrix[i][j] == 1:\n",
    "                m11 += 1\n",
    "            elif Spectral_mat[i][j] == 0 and ground_matrix[i][j] == 0:\n",
    "                m00 += 1\n",
    "            elif Spectral_mat[i][j] == 0 and ground_matrix[i][j] == 1:\n",
    "                m01 += 1\n",
    "            elif Spectral_mat[i][j] == 1 and ground_matrix[i][j] == 0:\n",
    "                m10 += 1\n",
    "    return m11, m00, m01, m10"
   ]
  },
  {
   "cell_type": "code",
   "execution_count": 31,
   "metadata": {},
   "outputs": [
    {
     "name": "stdout",
     "output_type": "stream",
     "text": [
      "Enter the number of clusters: \n",
      "2\n",
      "Enter the sigma value:\n",
      "2\n",
      "Laplacian matrix\n",
      "[[65.19454204 66.0896685  65.34026523 ... 66.03027305 66.16330811\n",
      "  66.08993036]\n",
      " [66.0896685  65.19454204 66.15719494 ... 65.25864518 65.36447599\n",
      "  65.23134763]\n",
      " [65.34026523 66.15719494 65.19454204 ... 66.12623552 66.1863431\n",
      "  66.15719494]\n",
      " ...\n",
      " [66.03027305 65.25864518 66.12623552 ... 65.19454204 65.50725277\n",
      "  65.2748809 ]\n",
      " [66.16330811 65.36447599 66.1863431  ... 65.50725277 65.19454204\n",
      "  65.43020773]\n",
      " [66.08993036 65.23134763 66.15719494 ... 65.2748809  65.43020773\n",
      "  65.19454204]]\n",
      "1. Type a to enter centroid indices \n",
      "2. Type b to randomly select indices \n",
      "3. Type c for EigenGap values\n",
      "a\n",
      "Enter the point :1\n",
      "4\n",
      "Enter the point :2\n",
      "5\n"
     ]
    },
    {
     "name": "stderr",
     "output_type": "stream",
     "text": [
      "<ipython-input-31-84cbce521708>:40: RuntimeWarning: Explicit initial center position passed: performing only one init in k-means instead of n_init=10\n",
      "  kmeans = KMeans(n_clusters=k, init = center_data).fit(transform.real)\n"
     ]
    },
    {
     "name": "stdout",
     "output_type": "stream",
     "text": [
      "Spectral Clustering Results\n",
      "-------------------------------------------------------------\n",
      "Rand Index for file new_dataset_1.txt is 0.6849777777777778\n",
      "Jaccard Coefficient for file new_dataset_1.txt is 0.46626506024096387\n"
     ]
    },
    {
     "data": {
      "image/png": "[encoded data removed]",
      "text/plain": [
       "<Figure size 540x360 with 1 Axes>"
      ]
     },
     "metadata": {
      "needs_background": "light"
     },
     "output_type": "display_data"
    }
   ],
   "source": [
    "#Main Function\n",
    "def __main__():\n",
    "    print('Enter the number of clusters: ')\n",
    "    k = int(input())\n",
    "    print('Enter the sigma value:')\n",
    "    sigma = float(input())\n",
    "    eigen_gap = 0\n",
    "    \n",
    "    #ground truth values\n",
    "    gr_true_values = df[1]\n",
    "\n",
    "    #Gene Data\n",
    "    gene_data = df.iloc[:,2:].to_numpy().astype(np.float)\n",
    "\n",
    "    #Similarity Matrix\n",
    "    Similarity_mat = np.matrix(np.full((gene_data.shape[0] , gene_data.shape[0]) , 0 , dtype=float))\n",
    "    for i in range(gene_data.shape[0]):\n",
    "        for j in range(gene_data.shape[0]):\n",
    "            Similarity_mat[i ,j] = Guassian_Kernel(gene_data[i,:] , gene_data[j , :] , sigma)\n",
    "\n",
    "    #Diagonal Matrix\n",
    "    Diag_mat = np.diag(Similarity_mat.sum(axis=1))\n",
    "    \n",
    "    #Laplacian matrix\n",
    "    Laplacian = Diag_mat - Similarity_mat\n",
    "    print(\"Laplacian matrix\")\n",
    "    print(Laplacian)\n",
    "    \n",
    "    #Transforming to new embedded space\n",
    "    print(\"1. Type a to enter centroid indices \\n2. Type b to randomly select indices \\n3. Type c for EigenGap values\")\n",
    "    option = input()\n",
    "    if(option == 'a'):\n",
    "        centroids = []\n",
    "        transform = Spectral(k, Laplacian)\n",
    "        for i in range(k):\n",
    "            print(\"Enter the point :\"+str(i+1))\n",
    "            centroids.append(input())\n",
    "        centroids = [int(ele)-1 for ele in centroids]\n",
    "        center_data = transform[centroids, :]\n",
    "        kmeans = KMeans(n_clusters=k, init = center_data).fit(transform.real)\n",
    "    elif (option == 'b'):\n",
    "        transform = Spectral(k, Laplacian)\n",
    "        kmeans = KMeans(n_clusters=k, random_state=0).fit(transform.real)\n",
    "    elif (option == 'c'):\n",
    "        transform,eigen_gap = Spectral_Eigen(k, Laplacian, eigen_gap)\n",
    "        print(\"number of clusters = {}\".format(eigen_gap+1))\n",
    "        kmeans = KMeans(n_clusters=eigen_gap+1, random_state=0).fit(transform.real)\n",
    "    else:\n",
    "        print(\"Invalid option\")\n",
    "        \n",
    "    #Cluster Assignment\n",
    "    Assigned_cluster = kmeans.labels_\n",
    "    \n",
    "    #PCA part\n",
    "    pca_data = PCA(n_components=2).fit_transform(gene_data)\n",
    "\n",
    "    #Scatter Plots\n",
    "    plots(pca_data,Assigned_cluster,file)\n",
    "    \n",
    "    #Incident Matrices for both Ground truth values and Spectral Cluster values\n",
    "    ground_matrix = get_matrix(gr_true_values.to_numpy())\n",
    "    Spectral_mat = get_matrix(np.array(Assigned_cluster))\n",
    "\n",
    "    #External_indices\n",
    "    m11,m00,m01, m10 = external_index(ground_matrix,Spectral_mat)\n",
    "\n",
    "    #Rand Index\n",
    "    rand_index = (m11 + m00)/(m11 + m00 + m01 + m10)\n",
    "\n",
    "    #Jaccard Coefficient\n",
    "    j_coeff = (m11)/(m11 + m10 + m01)\n",
    "\n",
    "    print(\"Spectral Clustering Results\")\n",
    "    print(\"-------------------------------------------------------------\")\n",
    "    print(\"Rand Index for file {} is {}\".format(file,str(rand_index)))\n",
    "    print(\"Jaccard Coefficient for file {} is {}\".format(file,str(j_coeff)))\n",
    "\n",
    "__main__()"
   ]
  }
 ],
 "metadata": {
  "kernelspec": {
   "display_name": "Python 3",
   "language": "python",
   "name": "python3"
  },
  "language_info": {
   "codemirror_mode": {
    "name": "ipython",
    "version": 3
   },
   "file_extension": ".py",
   "mimetype": "text/x-python",
   "name": "python",
   "nbconvert_exporter": "python",
   "pygments_lexer": "ipython3",
   "version": "3.8.3"
  }
 },
 "nbformat": 4,
 "nbformat_minor": 4
}
