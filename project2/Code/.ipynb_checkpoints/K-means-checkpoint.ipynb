{
 "cells": [
  {
   "cell_type": "code",
   "execution_count": 8,
   "metadata": {},
   "outputs": [],
   "source": [
    "import pandas as pd\n",
    "import numpy as np\n",
    "from sklearn.decomposition import PCA\n",
    "import seaborn as sns\n",
    "import matplotlib.pyplot as plt\n",
    "\n",
    "#Load the file in a Data Frame\n",
    "file = 'new_dataset_1.txt'\n",
    "df = pd.read_csv(file,sep=\"\\t\", header=None)"
   ]
  },
  {
   "cell_type": "code",
   "execution_count": 9,
   "metadata": {},
   "outputs": [],
   "source": [
    " #Intial Assignment of clusters\n",
    "def Initialization(k, gene_data):\n",
    "    centroids = []\n",
    "    for i in range(k):\n",
    "        centroid_indices = int(input(\"Enter centroid gene data indices: \"))\n",
    "        centroids.append(gene_data[centroid_indices-1])\n",
    "    centroids = np.asarray(centroids)\n",
    "    return centroids"
   ]
  },
  {
   "cell_type": "code",
   "execution_count": 10,
   "metadata": {},
   "outputs": [],
   "source": [
    "#Assignment of clusters\n",
    "def assignment(centroids, gene_data):\n",
    "    clusters = []\n",
    "    for i in range(gene_data.shape[0]):\n",
    "        dist = []\n",
    "        for cent_point in centroids:\n",
    "            dist.append(calc_distance(cent_point,gene_data[i]))\n",
    "        index = np.argmin(dist)+1\n",
    "        clusters.insert(i,index)\n",
    "    return clusters\n",
    " \n",
    "#Euclidean distance\n",
    "def calc_distance(x1,x2):\n",
    "    return (sum((x1 - x2)**2))**0.5"
   ]
  },
  {
   "cell_type": "code",
   "execution_count": 11,
   "metadata": {},
   "outputs": [],
   "source": [
    "#Updating Centroids\n",
    "def update_centroids(assigned_cluster,centroids,gene_data):\n",
    "    updated_centroids = []\n",
    "    gene_data = pd.DataFrame(gene_data)\n",
    "    assigned_cluster = pd.DataFrame(assigned_cluster,columns=['Cluster'])\n",
    "    df_cluster = pd.concat([gene_data,assigned_cluster], axis=1)\n",
    "    \n",
    "    for cent in set(df_cluster['Cluster']):\n",
    "        cur_cluster = df_cluster[df_cluster['Cluster'] == cent][df_cluster.columns[:-1]]\n",
    "        mean = cur_cluster.mean(axis=0)\n",
    "        updated_centroids.append(mean)\n",
    "    return updated_centroids\n",
    "\n",
    "#Plotting the clusters\n",
    "def plots(pca_data,assigned_cluster,file):\n",
    "    df_new = pd.DataFrame({'y1':np.array(pca_data)[:,0], 'y2':np.array(pca_data)[:,1], 'clusters': assigned_cluster})\n",
    "    sns.lmplot(x='y1', y='y2', data=df_new, fit_reg=False,hue='clusters',palette = 'dark', height=5,aspect = 1.5,legend_out = False)\n",
    "    plt.title(file)"
   ]
  },
  {
   "cell_type": "code",
   "execution_count": 12,
   "metadata": {},
   "outputs": [],
   "source": [
    "#Incident Matrix\n",
    "def get_matrix(cluster_values):\n",
    "    mat = np.zeros((len(cluster_values),len(cluster_values)))\n",
    "    for i in range(len(cluster_values)):\n",
    "        for j in range(len(cluster_values)):\n",
    "                if(cluster_values[i] == cluster_values[j]):\n",
    "                    mat[i][j] = 1\n",
    "                else:\n",
    "                    mat[i][j] = 0\n",
    "    return mat\n",
    "\n",
    "#Calculating m values using ground truth values and kmeans values\n",
    "def external_index(ground_matrix, kmeans_matrix):\n",
    "    m11 = 0\n",
    "    m00 = 0\n",
    "    m01 = 0\n",
    "    m10 = 0\n",
    "    for i in range(len(ground_matrix)):\n",
    "        for j in range(len(kmeans_matrix)):\n",
    "            if kmeans_matrix[i][j] == 1 and ground_matrix[i][j] == 1:\n",
    "                m11 += 1\n",
    "            elif kmeans_matrix[i][j] == 0 and ground_matrix[i][j] == 0:\n",
    "                m00 += 1\n",
    "            elif kmeans_matrix[i][j] == 0 and ground_matrix[i][j] == 1:\n",
    "                m01 += 1\n",
    "            elif kmeans_matrix[i][j] == 1 and ground_matrix[i][j] == 0:\n",
    "                m10 += 1\n",
    "    return m11, m00, m01, m10"
   ]
  },
  {
   "cell_type": "code",
   "execution_count": 13,
   "metadata": {},
   "outputs": [
    {
     "name": "stdout",
     "output_type": "stream",
     "text": [
      "Enter the number of clusters\n",
      "3\n",
      "Enter the number of iterations\n",
      "10\n",
      "Enter centroid gene data indices: 3\n",
      "Enter centroid gene data indices: 5\n",
      "Enter centroid gene data indices: 9\n",
      "K-means Clustering Results for the K value 3\n",
      "--------------------------------------------\n",
      "Rand Index for file new_dataset_1.txt is 0.7163555555555555\n",
      "Jaccard Coefficient for file new_dataset_1.txt is 0.4839909443725744\n"
     ]
    },
    {
     "data": {
      "image/png": "[encoded data removed]",
      "text/plain": [
       "<Figure size 540x360 with 1 Axes>"
      ]
     },
     "metadata": {
      "needs_background": "light"
     },
     "output_type": "display_data"
    }
   ],
   "source": [
    "#Main Function\n",
    "def __main__():\n",
    "    \n",
    "    #ground truth values\n",
    "    gr_true_values = df[1]\n",
    "    \n",
    "    #Gene Data\n",
    "    gene_data = df.iloc[:,2:].to_numpy().astype(np.float)\n",
    "\n",
    "    #Niumber of clusters and iterations\n",
    "    print('Enter the number of clusters')\n",
    "    k = int(input())\n",
    "    print('Enter the number of iterations')\n",
    "    iterations = int(input())\n",
    "    centroids = Initialization(k, gene_data)\n",
    "    new_centroids = []\n",
    "\n",
    "    #Algorithm\n",
    "    for i in range(iterations):\n",
    "        assigned_cluster = assignment(centroids,gene_data)\n",
    "        new_centroids = update_centroids(assigned_cluster,centroids,gene_data)\n",
    "\n",
    "        if pd.DataFrame(centroids).equals(pd.DataFrame(new_centroids)):\n",
    "            break\n",
    "        centroids = new_centroids\n",
    "\n",
    "    #PCA Part\n",
    "    pca_data = PCA(n_components=2).fit_transform(gene_data)\n",
    "\n",
    "    #Scatter Plots\n",
    "    plots(pca_data,assigned_cluster,file)\n",
    "\n",
    "    #Incident Matrices for both Ground truth values and Kmeans Cluster values\n",
    "    ground_matrix = get_matrix(gr_true_values.to_numpy())\n",
    "    kmeans_matrix = get_matrix(np.array(assigned_cluster))\n",
    "\n",
    "    #External_indices\n",
    "    m11,m00,m01, m10 = external_index(ground_matrix,kmeans_matrix)\n",
    "\n",
    "    #Rand Index\n",
    "    rand_index = (m11 + m00)/(m11 + m00 + m01 + m10)\n",
    "\n",
    "    #Jaccard Coefficient\n",
    "    j_coeff = (m11)/(m11 + m10 + m01)\n",
    "    \n",
    "    print(\"K-means Clustering Results for the K value {}\".format(str(k)))\n",
    "    print(\"--------------------------------------------\")\n",
    "    print(\"Rand Index for file {} is {}\".format(file,str(rand_index)))\n",
    "    print(\"Jaccard Coefficient for file {} is {}\".format(file,str(j_coeff)))\n",
    "\n",
    "__main__()"
   ]
  }
 ],
 "metadata": {
  "kernelspec": {
   "display_name": "Python 3",
   "language": "python",
   "name": "python3"
  },
  "language_info": {
   "codemirror_mode": {
    "name": "ipython",
    "version": 3
   },
   "file_extension": ".py",
   "mimetype": "text/x-python",
   "name": "python",
   "nbconvert_exporter": "python",
   "pygments_lexer": "ipython3",
   "version": "3.8.3"
  }
 },
 "nbformat": 4,
 "nbformat_minor": 4
}
