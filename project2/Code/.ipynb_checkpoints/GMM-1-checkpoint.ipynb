{
 "cells": [
  {
   "cell_type": "code",
   "execution_count": 9,
   "metadata": {},
   "outputs": [],
   "source": [
    "import numpy as np\n",
    "from scipy.stats import multivariate_normal\n",
    "import matplotlib.cm as cm\n",
    "import matplotlib.pyplot as plt\n",
    "from sklearn.decomposition import PCA"
   ]
  },
  {
   "cell_type": "code",
   "execution_count": 10,
   "metadata": {},
   "outputs": [],
   "source": [
    "matrix = []\n",
    "centroids = []"
   ]
  },
  {
   "cell_type": "code",
   "execution_count": 11,
   "metadata": {},
   "outputs": [],
   "source": [
    "clusters = 2\n",
    "iterations = 100"
   ]
  },
  {
   "cell_type": "code",
   "execution_count": 12,
   "metadata": {},
   "outputs": [
    {
     "name": "stdout",
     "output_type": "stream",
     "text": [
      "Enter the name of the file: cho.txt\n"
     ]
    }
   ],
   "source": [
    "filename = input(\"Enter the name of the file: \")\n",
    "file = open(filename, \"r\")\n",
    "lines = file.readlines()\n",
    "for line in lines:\n",
    "    data = line.strip().split(\"\\t\")\n",
    "    matrix.append(data)\n",
    "array = np.asarray(matrix, dtype = float)\n",
    "attributes = np.delete(array,np.s_[0:2],axis = 1)"
   ]
  },
  {
   "cell_type": "code",
   "execution_count": 13,
   "metadata": {},
   "outputs": [
    {
     "data": {
      "text/plain": [
       "array([  1.,   2.,   3.,   4.,   5.,   6.,   7.,   8.,   9.,  10.,  11.,\n",
       "        12.,  13.,  14.,  15.,  16.,  17.,  18.,  19.,  20.,  21.,  22.,\n",
       "        23.,  24.,  25.,  26.,  27.,  28.,  29.,  30.,  31.,  32.,  33.,\n",
       "        34.,  35.,  36.,  37.,  38.,  39.,  40.,  41.,  42.,  43.,  44.,\n",
       "        45.,  46.,  47.,  48.,  49.,  50.,  51.,  52.,  53.,  54.,  55.,\n",
       "        56.,  57.,  58.,  59.,  60.,  61.,  62.,  63.,  64.,  65.,  66.,\n",
       "        67.,  68.,  69.,  70.,  71.,  72.,  73.,  74.,  75.,  76.,  77.,\n",
       "        78.,  79.,  80.,  81.,  82.,  83.,  84.,  85.,  86.,  87.,  88.,\n",
       "        89.,  90.,  91.,  92.,  93.,  94.,  95.,  96.,  97.,  98.,  99.,\n",
       "       100., 101., 102., 103., 104., 105., 106., 107., 108., 109., 110.,\n",
       "       111., 112., 113., 114., 115., 116., 117., 118., 119., 120., 121.,\n",
       "       122., 123., 124., 125., 126., 127., 128., 129., 130., 131., 132.,\n",
       "       133., 134., 135., 136., 137., 138., 139., 140., 141., 142., 143.,\n",
       "       144., 145., 146., 147., 148., 149., 150., 151., 152., 153., 154.,\n",
       "       155., 156., 157., 158., 159., 160., 161., 162., 163., 164., 165.,\n",
       "       166., 167., 168., 169., 170., 171., 172., 173., 174., 175., 176.,\n",
       "       177., 178., 179., 180., 181., 182., 183., 184., 185., 186., 187.,\n",
       "       188., 189., 190., 191., 192., 193., 194., 195., 196., 197., 198.,\n",
       "       199., 200., 201., 202., 203., 204., 205., 206., 207., 208., 209.,\n",
       "       210., 211., 212., 213., 214., 215., 216., 217., 218., 219., 220.,\n",
       "       221., 222., 223., 224., 225., 226., 227., 228., 229., 230., 231.,\n",
       "       232., 233., 234., 235., 236., 237., 238., 239., 240., 241., 242.,\n",
       "       243., 244., 245., 246., 247., 248., 249., 250., 251., 252., 253.,\n",
       "       254., 255., 256., 257., 258., 259., 260., 261., 262., 263., 264.,\n",
       "       265., 266., 267., 268., 269., 270., 271., 272., 273., 274., 275.,\n",
       "       276., 277., 278., 279., 280., 281., 282., 283., 284., 285., 286.,\n",
       "       287., 288., 289., 290., 291., 292., 293., 294., 295., 296., 297.,\n",
       "       298., 299., 300., 301., 302., 303., 304., 305., 306., 307., 308.,\n",
       "       309., 310., 311., 312., 313., 314., 315., 316., 317., 318., 319.,\n",
       "       320., 321., 322., 323., 324., 325., 326., 327., 328., 329., 330.,\n",
       "       331., 332., 333., 334., 335., 336., 337., 338., 339., 340., 341.,\n",
       "       342., 343., 344., 345., 346., 347., 348., 349., 350., 351., 352.,\n",
       "       353., 354., 355., 356., 357., 358., 359., 360., 361., 362., 363.,\n",
       "       364., 365., 366., 367., 368., 369., 370., 371., 372., 373., 374.,\n",
       "       375., 376., 377., 378., 379., 380., 381., 382., 383., 384., 385.,\n",
       "       386.])"
      ]
     },
     "execution_count": 13,
     "metadata": {},
     "output_type": "execute_result"
    }
   ],
   "source": [
    "gene_id = array[:,0]\n",
    "gene_id"
   ]
  },
  {
   "cell_type": "code",
   "execution_count": 14,
   "metadata": {},
   "outputs": [
    {
     "data": {
      "text/plain": [
       "array([1., 1., 1., 1., 1., 1., 1., 1., 1., 1., 1., 1., 1., 1., 1., 1., 1.,\n",
       "       1., 1., 1., 1., 1., 1., 1., 1., 1., 1., 1., 1., 1., 1., 1., 1., 1.,\n",
       "       1., 1., 1., 1., 1., 1., 1., 1., 1., 1., 1., 1., 1., 1., 1., 1., 1.,\n",
       "       1., 1., 1., 1., 1., 1., 1., 1., 1., 1., 1., 1., 1., 1., 1., 1., 2.,\n",
       "       2., 2., 2., 2., 2., 2., 2., 2., 2., 2., 2., 2., 2., 2., 2., 2., 2.,\n",
       "       2., 2., 2., 2., 2., 2., 2., 2., 2., 2., 2., 2., 2., 2., 2., 2., 2.,\n",
       "       2., 2., 2., 2., 2., 2., 2., 2., 2., 2., 2., 2., 2., 2., 2., 2., 2.,\n",
       "       2., 2., 2., 2., 2., 2., 2., 2., 2., 2., 2., 2., 2., 2., 2., 2., 2.,\n",
       "       2., 2., 2., 2., 2., 2., 2., 2., 2., 2., 2., 2., 2., 2., 2., 2., 2.,\n",
       "       2., 2., 2., 2., 2., 2., 2., 2., 2., 2., 2., 2., 2., 2., 2., 2., 2.,\n",
       "       2., 2., 2., 2., 2., 2., 2., 2., 2., 2., 2., 2., 2., 2., 2., 2., 2.,\n",
       "       2., 2., 2., 2., 2., 2., 2., 2., 2., 2., 2., 2., 2., 2., 2., 3., 3.,\n",
       "       3., 3., 3., 3., 3., 3., 3., 3., 3., 3., 3., 3., 3., 3., 3., 3., 3.,\n",
       "       3., 3., 3., 3., 3., 3., 3., 3., 3., 3., 3., 3., 3., 3., 3., 3., 3.,\n",
       "       3., 3., 3., 3., 3., 3., 3., 3., 3., 3., 3., 3., 3., 3., 3., 3., 3.,\n",
       "       3., 3., 3., 3., 3., 3., 3., 3., 3., 3., 3., 3., 3., 3., 3., 3., 3.,\n",
       "       3., 3., 3., 3., 3., 4., 4., 4., 4., 4., 4., 4., 4., 4., 4., 4., 4.,\n",
       "       4., 4., 4., 4., 4., 4., 4., 4., 4., 4., 4., 4., 4., 4., 4., 4., 4.,\n",
       "       4., 4., 4., 4., 4., 4., 4., 4., 4., 4., 4., 4., 4., 4., 4., 4., 4.,\n",
       "       4., 4., 4., 4., 4., 4., 4., 4., 5., 5., 5., 5., 5., 5., 5., 5., 5.,\n",
       "       5., 5., 5., 5., 5., 5., 5., 5., 5., 5., 5., 5., 5., 5., 5., 5., 5.,\n",
       "       5., 5., 5., 5., 5., 5., 5., 5., 5., 5., 5., 5., 5., 5., 5., 5., 5.,\n",
       "       5., 5., 5., 5., 5., 5., 5., 5., 5., 5., 5., 5.])"
      ]
     },
     "execution_count": 14,
     "metadata": {},
     "output_type": "execute_result"
    }
   ],
   "source": [
    "ground_truth = array[:,1]\n",
    "ground_truth"
   ]
  },
  {
   "cell_type": "code",
   "execution_count": 15,
   "metadata": {},
   "outputs": [],
   "source": [
    "class GMM:\n",
    "    def __init__(self, k, maximum_iterations=100 , value = 1e-9):\n",
    "        \n",
    "        self.k = k\n",
    "        self.maximum_iterations = int(maximum_iterations)\n",
    "        self.value = value\n",
    "        \n",
    "    def read(self):\n",
    "        \n",
    "        self.mu = [[0,0],[3,3],[0,4]]\n",
    "        self.sigma = [[[1,0.4],[0.4,1]], [[1,0], [0,2]], [[0.4,0], [0,0.1]]]\n",
    "        self.pi = [0.4, 0.4, 0.2]\n",
    "        \n",
    "    \n",
    "\n",
    "    def prob_prediction(self, X):\n",
    "        likelihood = np.zeros( (self.n, self.k) )\n",
    "        for i in range(self.k):\n",
    "            distribution = multivariate_normal(mean=self.mu[i], cov=self.sigma[i])\n",
    "            likelihood[:,i] = distribution.pdf(X)\n",
    "        \n",
    "        numerator = self.phi * likelihood \n",
    "        denominator = numerator.sum(axis=1)[:, np.newaxis]\n",
    "        probability = numerator / denominator\n",
    "        return probability\n",
    "    \n",
    "    def GMM_fit(self, X  , mu = None , sigma = None, phi = None , threshold = 1e-9):\n",
    "        \n",
    "        self.shape = X.shape\n",
    "        self.n, self.m = self.shape\n",
    "\n",
    "        if mu:\n",
    "            self.mu = [np.asarray(element , dtype = float) for element in mu]\n",
    "            \n",
    "        else:\n",
    "            row_choice = np.random.randint(low=0, high=self.n, size=self.k)\n",
    "            self.mu = [  X[row_index,:] for row_index in row_choice ]\n",
    "            \n",
    "        if phi:\n",
    "            self.phi = [np.asarray(element , dtype = float) for element in phi]\n",
    "            \n",
    "        else:\n",
    "            self.phi = np.full(shape=self.k, fill_value=1/self.k)\n",
    "        self.probability = np.full(shape =self.shape, fill_value=1/self.k)\n",
    "          \n",
    "        if sigma:\n",
    "            self.sigma = [np.asarray(element , dtype = float) for element in sigma]\n",
    "            \n",
    "        else:\n",
    "            self.sigma = [ np.cov(X.T) for _ in range(self.k) ]\n",
    "        \n",
    "        for i , element in enumerate(self.sigma):\n",
    "            np.fill_diagonal(self.sigma[i], element.diagonal() + self.value)\n",
    "        old = None\n",
    "        \n",
    "        for iteration in range(self.maximum_iterations):\n",
    "            \n",
    "            self.probability = self.prob_prediction(X)\n",
    "            self.phi = self.probability.mean(axis=0)\n",
    "\n",
    "            for i in range(self.k):\n",
    "                weight = self.probability[:, [i]]\n",
    "                total_weight = weight.sum()\n",
    "                self.mu[i] = (X * weight).sum(axis=0) / total_weight\n",
    "                self.sigma[i] = np.cov(X.T, aweights=(weight/total_weight).flatten(), bias=True)\n",
    "                \n",
    "                for i , element in enumerate(self.sigma):\n",
    "                    \n",
    "                    np.fill_diagonal(self.sigma[i], element.diagonal() + self.value)\n",
    "                    \n",
    "            new = self.Loss(X)\n",
    "            \n",
    "            if old != None and abs(new - old) <= threshold:\n",
    "                break\n",
    "            old = new\n",
    "            \n",
    "            \n",
    "    def Loss(self, X):\n",
    "        N = X.shape[0]\n",
    "        C = self.probability.shape[1]\n",
    "        self.loss = np.zeros((N, C))\n",
    "\n",
    "        for c in range(C):\n",
    "            dist = multivariate_normal(self.mu[c], self.sigma[c],allow_singular=True)\n",
    "            self.loss[:,c] = self.probability[:,c] * (np.log(self.phi[c]+0.00000001)+dist.logpdf(X)-np.log(self.probability[:,c]+0.000000001))\n",
    "        self.loss = np.sum(self.loss)\n",
    "        return self.loss\n",
    "    \n",
    "    def GMM_predict(self, X):\n",
    "        probability = self.prob_prediction(X)\n",
    "        return np.argmax(probability, axis=1)"
   ]
  },
  {
   "cell_type": "code",
   "execution_count": 16,
   "metadata": {},
   "outputs": [
    {
     "name": "stdout",
     "output_type": "stream",
     "text": [
      "[1 0 1 0 0 0 0 0 0 1 0 1 1 1 1 1 1 1 0 1 1 1 1 1 1 0 1 1 1 1 1 1 1 1 1 0 1\n",
      " 0 1 1 1 0 0 0 0 1 1 1 1 1 1 1 0 1 0 1 1 1 0 1 1 1 1 1 1 1 0 1 1 1 1 1 1 1\n",
      " 1 1 1 1 1 1 1 0 0 1 1 1 1 1 1 1 0 1 1 1 1 1 1 1 1 1 0 1 1 1 1 1 0 1 1 0 1\n",
      " 1 1 1 1 1 1 1 1 1 1 1 1 1 0 1 0 0 1 0 0 1 1 1 1 1 0 1 1 1 1 1 1 0 1 1 1 1\n",
      " 1 1 1 1 1 1 1 1 1 0 1 1 1 1 0 1 1 1 1 0 0 0 0 1 1 0 1 0 0 1 1 1 1 1 1 1 1\n",
      " 0 1 1 1 1 1 1 1 1 0 0 1 0 1 1 1 1 0 0 0 0 0 0 0 0 0 0 1 0 1 0 0 0 1 0 0 0\n",
      " 1 1 1 0 0 0 0 1 1 0 1 0 0 0 0 1 0 0 0 0 0 1 0 0 0 0 0 0 1 1 0 0 0 0 0 0 0\n",
      " 0 0 0 0 0 0 0 1 0 0 0 0 0 1 0 1 1 1 0 0 0 0 0 0 0 0 0 0 0 0 0 0 0 0 0 0 0\n",
      " 0 0 1 0 0 0 0 0 0 0 0 0 0 0 0 0 0 0 0 0 0 0 0 0 0 0 0 0 0 0 0 0 0 0 0 1 0\n",
      " 0 0 0 0 0 0 0 0 0 0 0 0 0 0 0 0 0 0 0 0 1 0 0 0 0 1 1 0 0 0 0 0 0 0 0 0 0\n",
      " 0 0 0 0 0 0 0 0 0 0 0 0 0 0 0 0]\n"
     ]
    }
   ],
   "source": [
    "Guassian_Mixture_Model = GMM(k=clusters, maximum_iterations=iterations)\n",
    "Guassian_Mixture_Model.GMM_fit(attributes)\n",
    "assignment = Guassian_Mixture_Model.GMM_predict(attributes)\n",
    "assignment=np.asarray(assignment,dtype=int)\n",
    "print(assignment)"
   ]
  },
  {
   "cell_type": "code",
   "execution_count": 17,
   "metadata": {},
   "outputs": [],
   "source": [
    "def visualise():\n",
    "    matrix_plot = PCA(n_components=2).fit_transform(attributes)\n",
    "    plot_labels = list(set(assignment))\n",
    "    names=[]\n",
    "\n",
    "    color = cm.Set1(np.linspace(0, 1, len(plot_labels)))\n",
    "\n",
    "    for i in range(len(plot_labels)):\n",
    "        index = np.where(assignment==plot_labels[i])\n",
    "        distance_row = matrix_plot[index]\n",
    "        label_x =[distance_row[:,0]]\n",
    "        label_y = [distance_row[:,1]]\n",
    "        names.append(plt.scatter(label_x, label_y, c=color[i]))\n",
    "\n",
    "    plot_labels=[-1.0 if x==0 else x for x in plot_labels]\n",
    "    plot_labels=np.array(plot_labels,dtype=int)\n",
    "\n",
    "    plt.legend(names,plot_labels,loc=\"best\",ncol=1,markerfirst=True,shadow=True)\n",
    "    plt.xlabel(\"PC1\")\n",
    "    plt.ylabel(\"PC2\")\n",
    "    plt.title(\"GMM \"+filename)\n",
    "    plt.show()"
   ]
  },
  {
   "cell_type": "code",
   "execution_count": null,
   "metadata": {},
   "outputs": [],
   "source": []
  }
 ],
 "metadata": {
  "kernelspec": {
   "display_name": "Python 3",
   "language": "python",
   "name": "python3"
  },
  "language_info": {
   "codemirror_mode": {
    "name": "ipython",
    "version": 3
   },
   "file_extension": ".py",
   "mimetype": "text/x-python",
   "name": "python",
   "nbconvert_exporter": "python",
   "pygments_lexer": "ipython3",
   "version": "3.8.3"
  }
 },
 "nbformat": 4,
 "nbformat_minor": 4
}
