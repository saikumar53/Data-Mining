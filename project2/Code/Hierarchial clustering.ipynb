{
 "cells": [
  {
   "cell_type": "code",
   "execution_count": 15,
   "metadata": {},
   "outputs": [],
   "source": [
    "import numpy as np\n",
    "from sklearn.decomposition import PCA\n",
    "import matplotlib.pyplot as plt\n",
    "import pandas as pd\n",
    "import scipy.spatial.distance as sd\n",
    "import seaborn as sns\n",
    "from scipy.cluster.hierarchy import dendrogram, linkage\n",
    "\n",
    "#Load the file\n",
    "file=\"new_dataset_2.txt\"\n",
    "data = np.loadtxt(file,dtype='float')"
   ]
  },
  {
   "cell_type": "code",
   "execution_count": 16,
   "metadata": {},
   "outputs": [],
   "source": [
    "#Distance Matrix\n",
    "def distance_matrix_calc(data):\n",
    "    dist_mat = np.zeros((data.shape[0],data.shape[0]))\n",
    "    dist_mat = sd.cdist(data, data, metric = 'euclid')\n",
    "    return dist_mat"
   ]
  },
  {
   "cell_type": "code",
   "execution_count": 17,
   "metadata": {},
   "outputs": [],
   "source": [
    "#Assign the Clusters\n",
    "def assign_cluster(clusters,gene_index):\n",
    "    for i,cluster in enumerate(clusters):\n",
    "        if gene_index in cluster:\n",
    "            return i"
   ]
  },
  {
   "cell_type": "code",
   "execution_count": 18,
   "metadata": {},
   "outputs": [],
   "source": [
    "#New Cluster Assignment\n",
    "def new_cluster(dist_matrix, flag, no_of_points, t_label):\n",
    "    for i in range(flag):\n",
    "        minimum=np.min(dist_matrix[np.nonzero(dist_matrix)])\n",
    "        position=np.where(dist_matrix == minimum)\n",
    "        x_cordinate=position[0][0]\n",
    "        y_cordinate=position[1][0]\n",
    "        x_cluster = assign_cluster(t_label,x_cordinate)\n",
    "        y_cluster = assign_cluster(t_label,y_cordinate)\n",
    "        t_label[x_cluster]=t_label[x_cluster] + t_label[y_cluster]\n",
    "        t_label.pop(y_cluster)\n",
    "        \n",
    "        for p in range(no_of_points):\n",
    "            dist_matrix[x_cordinate][p] = min(dist_matrix[x_cordinate][p],dist_matrix[y_cordinate][p])\n",
    "            dist_matrix[p][x_cordinate] = min(dist_matrix[p][x_cordinate],dist_matrix[p][y_cordinate])\n",
    "            dist_matrix[y_cordinate][p] = np.inf\n",
    "            dist_matrix[p][y_cordinate] = np.inf\n",
    "            dist_matrix[p][p] =0\n",
    "\n",
    "        final_cluster_vals =np.zeros(no_of_points,dtype=int)\n",
    "    cluster_name=1;\n",
    "\n",
    "    for cluster in t_label:\n",
    "        for p in cluster:\n",
    "            final_cluster_vals[p]=cluster_name\n",
    "        cluster_name=cluster_name+1\n",
    "\n",
    "    return final_cluster_vals"
   ]
  },
  {
   "cell_type": "code",
   "execution_count": 19,
   "metadata": {},
   "outputs": [],
   "source": [
    "#Plotting the clusters\n",
    "def plots(pca_data,assigned_cluster,file):\n",
    "    df_new = pd.DataFrame({'y1':np.array(pca_data)[:,0], 'y2':np.array(pca_data)[:,1], 'clusters': assigned_cluster})\n",
    "    sns.lmplot(x='y1', y='y2', data=df_new, fit_reg=False,hue='clusters',palette = 'dark', height=5,aspect = 1.5,legend_out = False)\n",
    "    plt.title(file)\n",
    "    plt.show()"
   ]
  },
  {
   "cell_type": "code",
   "execution_count": 20,
   "metadata": {},
   "outputs": [],
   "source": [
    "#Calculating m values using ground truth values and Hierarchial cluster values\n",
    "def get_count(points,final_cluster_vals,ground_truth):\n",
    "    tp = 0\n",
    "    tn = 0\n",
    "    fp=0\n",
    "    fn=0\n",
    "    for i in range(len(data)):\n",
    "        for j in range(len(data)):\n",
    "            if ground_truth[i]==ground_truth[j]:\n",
    "                if final_cluster_vals[j]:\n",
    "                    tp = tp + 1\n",
    "                else:\n",
    "                    fn = fn +1\n",
    "            elif ground_truth[i]!=ground_truth[j]:\n",
    "                if final_cluster_vals[i]==final_cluster_vals[j]:\n",
    "                    fp = fp +1\n",
    "                else:\n",
    "                    tn = tn+1\n",
    "    return tp,tn,fp,fn"
   ]
  },
  {
   "cell_type": "code",
   "execution_count": 21,
   "metadata": {},
   "outputs": [
    {
     "name": "stdout",
     "output_type": "stream",
     "text": [
      "Enter the number of clusters\n",
      "3\n"
     ]
    },
    {
     "data": {
      "image/png": "[encoded data removed]",
      "text/plain": [
       "<Figure size 540x360 with 1 Axes>"
      ]
     },
     "metadata": {
      "needs_background": "light"
     },
     "output_type": "display_data"
    },
    {
     "name": "stdout",
     "output_type": "stream",
     "text": [
      "Hierarchical Agglomerative Clustering Results \n",
      "--------------------------------------------\n",
      "Rand Index for file new_dataset_2.txt is 1.0\n",
      "Jaccard Coefficient for file new_dataset_2.txt is 1.0\n"
     ]
    }
   ],
   "source": [
    "#Main Function\n",
    "def __main__():\n",
    "    \n",
    "    print('Enter the number of clusters')\n",
    "    k = int(input())\n",
    "    points= data[:,2:]\n",
    "    dist_matrix = distance_matrix_calc(points)\n",
    "    num_points=len(points)\n",
    "    ground_truth = data[:,1]\n",
    "    flag = num_points - k \n",
    "    t_label =[]\n",
    "    for i in range(num_points):\n",
    "        t_label.append([i])\n",
    "\n",
    "    #Final Cluster points\n",
    "    final_cluster_vals = new_cluster(dist_matrix, flag, num_points, t_label)\n",
    "    \n",
    "    #PCA Part\n",
    "    pca_data = PCA(n_components=2).fit_transform(points)\n",
    "    \n",
    "    #Scatter plots of clusters\n",
    "    plots(pca_data, final_cluster_vals, file)\n",
    "    \n",
    "    #Dendogram Construction\n",
    "#     z = linkage(points,'ward')\n",
    "#     dendrogram(z,truncate_mode='lastp',p=12,leaf_rotation=45,leaf_font_size=15.,show_contracted=True)\n",
    "#     plt.title('Dendrogram')\n",
    "#     plt.xlabel('Cluster Size')\n",
    "#     plt.ylabel('Distance')\n",
    "#     plt.axhline(y=500)\n",
    "#     plt.axhline(y=150)\n",
    "#     plt.show()\n",
    "\n",
    "    #External_indices\n",
    "    tp,tn,fp,fn = get_count(points,final_cluster_vals,ground_truth)\n",
    "    \n",
    "    #Rand Index\n",
    "    rand_index = (tp+tn)/(tp+tn+fp+fn)\n",
    "    \n",
    "    #Jaccard Coefficient\n",
    "    j_coeff=(tp)/(tp+fp+fn)\n",
    "    \n",
    "    print(\"Hierarchical Agglomerative Clustering Results \")\n",
    "    print(\"--------------------------------------------\")\n",
    "    print(\"Rand Index for file {} is {}\".format(file,str(rand_index)))\n",
    "    print(\"Jaccard Coefficient for file {} is {}\".format(file,str(j_coeff)))\n",
    "    \n",
    "__main__()"
   ]
  },
  {
   "cell_type": "code",
   "execution_count": null,
   "metadata": {},
   "outputs": [],
   "source": []
  }
 ],
 "metadata": {
  "kernelspec": {
   "display_name": "Python 3",
   "language": "python",
   "name": "python3"
  },
  "language_info": {
   "codemirror_mode": {
    "name": "ipython",
    "version": 3
   },
   "file_extension": ".py",
   "mimetype": "text/x-python",
   "name": "python",
   "nbconvert_exporter": "python",
   "pygments_lexer": "ipython3",
   "version": "3.8.3"
  }
 },
 "nbformat": 4,
 "nbformat_minor": 4
}
